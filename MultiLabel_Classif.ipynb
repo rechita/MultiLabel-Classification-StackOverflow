{
  "cells": [
    {
      "cell_type": "markdown",
      "metadata": {
        "id": "FIxAU6f3S-MI"
      },
      "source": [
        "# <Font color = 'indianred'>**Load Libraries/Install Software**"
      ]
    },
    {
      "cell_type": "code",
      "execution_count": null,
      "metadata": {
        "execution": {
          "iopub.execute_input": "2022-11-27T00:23:29.192565Z",
          "iopub.status.busy": "2022-11-27T00:23:29.192271Z",
          "iopub.status.idle": "2022-11-27T00:23:29.201977Z",
          "shell.execute_reply": "2022-11-27T00:23:29.201283Z",
          "shell.execute_reply.started": "2022-11-27T00:23:29.192478Z"
        },
        "id": "-h5a-vtFb738",
        "tags": [],
        "colab": {
          "base_uri": "https://localhost:8080/"
        },
        "outputId": "fcb05031-1822-4a19-c55f-32761598f8e3"
      },
      "outputs": [
        {
          "output_type": "stream",
          "name": "stdout",
          "text": [
            "Drive already mounted at /content/drive; to attempt to forcibly remount, call drive.mount(\"/content/drive\", force_remount=True).\n"
          ]
        }
      ],
      "source": [
        "if 'google.colab' in str(get_ipython()):\n",
        "    from google.colab import drive\n",
        "    drive.mount('/content/drive')\n",
        "\n",
        "    !pip install torchtext --upgrade -qq\n",
        "    !pip install torchmetrics -qq\n",
        "    !pip install torchinfo -qq\n",
        "\n",
        "    basepath = '/content/drive/MyDrive/BUAN-6342'\n",
        "\n"
      ]
    },
    {
      "cell_type": "code",
      "execution_count": null,
      "metadata": {
        "execution": {
          "iopub.execute_input": "2022-10-24T09:22:06.058551Z",
          "iopub.status.busy": "2022-10-24T09:22:06.058401Z",
          "iopub.status.idle": "2022-10-24T09:22:06.083291Z",
          "shell.execute_reply": "2022-10-24T09:22:06.082816Z",
          "shell.execute_reply.started": "2022-10-24T09:22:06.058538Z"
        },
        "id": "TqYqOtp5yluv",
        "tags": []
      },
      "outputs": [],
      "source": [
        "# Importing PyTorch library for tensor computations and neural network modules\n",
        "import torch\n",
        "import torch.nn as nn\n",
        "import torch.nn.functional as F\n",
        "\n",
        "# For working with textual data vocabularies and for displaying model summaries\n",
        "from torchtext.vocab import vocab\n",
        "from torchinfo import summary\n",
        "\n",
        "# General-purpose Python libraries for random number generation and numerical operations\n",
        "import random\n",
        "import numpy as np\n",
        "\n",
        "# Utilities for efficient serialization/deserialization of Python objects and for element tallying\n",
        "import joblib\n",
        "from collections import Counter\n",
        "\n",
        "# For creating lightweight attribute classes and for partial function application\n",
        "from types import SimpleNamespace\n",
        "from functools import partial\n",
        "\n",
        "# For filesystem path handling, generating and displaying confusion matrices, and date-time manipulations\n",
        "from pathlib import Path\n",
        "from sklearn.metrics import confusion_matrix, ConfusionMatrixDisplay\n",
        "from datetime import datetime\n",
        "\n",
        "# For plotting and visualization\n",
        "import matplotlib.pyplot as plt\n",
        "\n",
        "from sklearn.model_selection import train_test_split\n",
        "from torch.utils.data import DataLoader, TensorDataset\n",
        "import ast\n",
        "from sklearn.preprocessing import MultiLabelBinarizer\n",
        "# HammingDistance is useful for evaluating multi-label classification problems.\n",
        "from torchmetrics import HammingDistance\n",
        "import torchmetrics\n",
        "from  torchmetrics.functional.classification import multilabel_f1_score, multilabel_hamming_distance\n",
        "from sklearn.metrics import accuracy_score, f1_score, hamming_loss\n",
        "from torchmetrics.functional.classification import multilabel_accuracy\n",
        "\n"
      ]
    },
    {
      "cell_type": "markdown",
      "metadata": {
        "id": "J2nAIo5uNxEr"
      },
      "source": [
        "# <Font color = 'indianred'>**Specify Project Folders**"
      ]
    },
    {
      "cell_type": "code",
      "execution_count": null,
      "metadata": {
        "execution": {
          "iopub.execute_input": "2022-10-24T09:22:06.160646Z",
          "iopub.status.busy": "2022-10-24T09:22:06.160510Z",
          "iopub.status.idle": "2022-10-24T09:22:06.184362Z",
          "shell.execute_reply": "2022-10-24T09:22:06.184015Z",
          "shell.execute_reply.started": "2022-10-24T09:22:06.160633Z"
        },
        "id": "Z0yKILuteTDE"
      },
      "outputs": [],
      "source": [
        "base_folder = Path(basepath)\n",
        "data_folder = base_folder/'0_Data'\n",
        "model_folder = base_folder\n",
        "custom_functions = base_folder/'0_Python_Scripts'"
      ]
    },
    {
      "cell_type": "markdown",
      "metadata": {
        "id": "17xctemopjdA"
      },
      "source": [
        "# <Font color = 'indianred'>**Data Preparation**"
      ]
    },
    {
      "cell_type": "markdown",
      "metadata": {
        "id": "BFkeP76kjeka"
      },
      "source": [
        "##  <Font color = 'indianred'>**Load cleaned arrays from indianredd files using joblib**"
      ]
    },
    {
      "cell_type": "code",
      "execution_count": null,
      "metadata": {
        "id": "gqttk5Nojeka"
      },
      "outputs": [],
      "source": [
        "df = data_folder / 'df_multilabel_hw_cleaned.joblib'"
      ]
    },
    {
      "cell_type": "code",
      "execution_count": null,
      "metadata": {
        "id": "cBnk5lWgjekb"
      },
      "outputs": [],
      "source": [
        "data = joblib.load(df)"
      ]
    },
    {
      "cell_type": "code",
      "execution_count": 64,
      "metadata": {
        "colab": {
          "base_uri": "https://localhost:8080/"
        },
        "id": "NGjto1T3mCj4",
        "outputId": "050f51a7-523d-4ce2-c804-4e250bb4c951"
      },
      "outputs": [
        {
          "output_type": "execute_result",
          "data": {
            "text/plain": [
              "pandas.core.frame.DataFrame"
            ]
          },
          "metadata": {},
          "execution_count": 64
        }
      ],
      "source": [
        "type(data)"
      ]
    },
    {
      "cell_type": "code",
      "source": [
        "data.head()"
      ],
      "metadata": {
        "colab": {
          "base_uri": "https://localhost:8080/",
          "height": 206
        },
        "id": "IOynne2QXqpO",
        "outputId": "7e7f1887-a45a-4904-b1ad-5843132d9c76"
      },
      "execution_count": null,
      "outputs": [
        {
          "output_type": "execute_result",
          "data": {
            "text/plain": [
              "                                        cleaned_text               Tags  \\\n",
              "0  asp query stre dropdown webpage follow control...         c# asp.net   \n",
              "1  run javascript code server java code want run ...    java javascript   \n",
              "2  linq sql throw exception row find change hi li...         c# asp.net   \n",
              "3  run python script php server run nginx web ser...         php python   \n",
              "4  advice write function m try write function res...  javascript jquery   \n",
              "\n",
              "  Tag_Number  \n",
              "0     [0, 9]  \n",
              "1     [1, 3]  \n",
              "2     [0, 9]  \n",
              "3     [2, 7]  \n",
              "4     [3, 5]  "
            ],
            "text/html": [
              "\n",
              "  <div id=\"df-09732f48-dbb2-4ef8-b37c-9077e361243b\" class=\"colab-df-container\">\n",
              "    <div>\n",
              "<style scoped>\n",
              "    .dataframe tbody tr th:only-of-type {\n",
              "        vertical-align: middle;\n",
              "    }\n",
              "\n",
              "    .dataframe tbody tr th {\n",
              "        vertical-align: top;\n",
              "    }\n",
              "\n",
              "    .dataframe thead th {\n",
              "        text-align: right;\n",
              "    }\n",
              "</style>\n",
              "<table border=\"1\" class=\"dataframe\">\n",
              "  <thead>\n",
              "    <tr style=\"text-align: right;\">\n",
              "      <th></th>\n",
              "      <th>cleaned_text</th>\n",
              "      <th>Tags</th>\n",
              "      <th>Tag_Number</th>\n",
              "    </tr>\n",
              "  </thead>\n",
              "  <tbody>\n",
              "    <tr>\n",
              "      <th>0</th>\n",
              "      <td>asp query stre dropdown webpage follow control...</td>\n",
              "      <td>c# asp.net</td>\n",
              "      <td>[0, 9]</td>\n",
              "    </tr>\n",
              "    <tr>\n",
              "      <th>1</th>\n",
              "      <td>run javascript code server java code want run ...</td>\n",
              "      <td>java javascript</td>\n",
              "      <td>[1, 3]</td>\n",
              "    </tr>\n",
              "    <tr>\n",
              "      <th>2</th>\n",
              "      <td>linq sql throw exception row find change hi li...</td>\n",
              "      <td>c# asp.net</td>\n",
              "      <td>[0, 9]</td>\n",
              "    </tr>\n",
              "    <tr>\n",
              "      <th>3</th>\n",
              "      <td>run python script php server run nginx web ser...</td>\n",
              "      <td>php python</td>\n",
              "      <td>[2, 7]</td>\n",
              "    </tr>\n",
              "    <tr>\n",
              "      <th>4</th>\n",
              "      <td>advice write function m try write function res...</td>\n",
              "      <td>javascript jquery</td>\n",
              "      <td>[3, 5]</td>\n",
              "    </tr>\n",
              "  </tbody>\n",
              "</table>\n",
              "</div>\n",
              "    <div class=\"colab-df-buttons\">\n",
              "\n",
              "  <div class=\"colab-df-container\">\n",
              "    <button class=\"colab-df-convert\" onclick=\"convertToInteractive('df-09732f48-dbb2-4ef8-b37c-9077e361243b')\"\n",
              "            title=\"Convert this dataframe to an interactive table.\"\n",
              "            style=\"display:none;\">\n",
              "\n",
              "  <svg xmlns=\"http://www.w3.org/2000/svg\" height=\"24px\" viewBox=\"0 -960 960 960\">\n",
              "    <path d=\"M120-120v-720h720v720H120Zm60-500h600v-160H180v160Zm220 220h160v-160H400v160Zm0 220h160v-160H400v160ZM180-400h160v-160H180v160Zm440 0h160v-160H620v160ZM180-180h160v-160H180v160Zm440 0h160v-160H620v160Z\"/>\n",
              "  </svg>\n",
              "    </button>\n",
              "\n",
              "  <style>\n",
              "    .colab-df-container {\n",
              "      display:flex;\n",
              "      gap: 12px;\n",
              "    }\n",
              "\n",
              "    .colab-df-convert {\n",
              "      background-color: #E8F0FE;\n",
              "      border: none;\n",
              "      border-radius: 50%;\n",
              "      cursor: pointer;\n",
              "      display: none;\n",
              "      fill: #1967D2;\n",
              "      height: 32px;\n",
              "      padding: 0 0 0 0;\n",
              "      width: 32px;\n",
              "    }\n",
              "\n",
              "    .colab-df-convert:hover {\n",
              "      background-color: #E2EBFA;\n",
              "      box-shadow: 0px 1px 2px rgba(60, 64, 67, 0.3), 0px 1px 3px 1px rgba(60, 64, 67, 0.15);\n",
              "      fill: #174EA6;\n",
              "    }\n",
              "\n",
              "    .colab-df-buttons div {\n",
              "      margin-bottom: 4px;\n",
              "    }\n",
              "\n",
              "    [theme=dark] .colab-df-convert {\n",
              "      background-color: #3B4455;\n",
              "      fill: #D2E3FC;\n",
              "    }\n",
              "\n",
              "    [theme=dark] .colab-df-convert:hover {\n",
              "      background-color: #434B5C;\n",
              "      box-shadow: 0px 1px 3px 1px rgba(0, 0, 0, 0.15);\n",
              "      filter: drop-shadow(0px 1px 2px rgba(0, 0, 0, 0.3));\n",
              "      fill: #FFFFFF;\n",
              "    }\n",
              "  </style>\n",
              "\n",
              "    <script>\n",
              "      const buttonEl =\n",
              "        document.querySelector('#df-09732f48-dbb2-4ef8-b37c-9077e361243b button.colab-df-convert');\n",
              "      buttonEl.style.display =\n",
              "        google.colab.kernel.accessAllowed ? 'block' : 'none';\n",
              "\n",
              "      async function convertToInteractive(key) {\n",
              "        const element = document.querySelector('#df-09732f48-dbb2-4ef8-b37c-9077e361243b');\n",
              "        const dataTable =\n",
              "          await google.colab.kernel.invokeFunction('convertToInteractive',\n",
              "                                                    [key], {});\n",
              "        if (!dataTable) return;\n",
              "\n",
              "        const docLinkHtml = 'Like what you see? Visit the ' +\n",
              "          '<a target=\"_blank\" href=https://colab.research.google.com/notebooks/data_table.ipynb>data table notebook</a>'\n",
              "          + ' to learn more about interactive tables.';\n",
              "        element.innerHTML = '';\n",
              "        dataTable['output_type'] = 'display_data';\n",
              "        await google.colab.output.renderOutput(dataTable, element);\n",
              "        const docLink = document.createElement('div');\n",
              "        docLink.innerHTML = docLinkHtml;\n",
              "        element.appendChild(docLink);\n",
              "      }\n",
              "    </script>\n",
              "  </div>\n",
              "\n",
              "\n",
              "<div id=\"df-94f97221-7199-4774-9040-22343951ef80\">\n",
              "  <button class=\"colab-df-quickchart\" onclick=\"quickchart('df-94f97221-7199-4774-9040-22343951ef80')\"\n",
              "            title=\"Suggest charts.\"\n",
              "            style=\"display:none;\">\n",
              "\n",
              "<svg xmlns=\"http://www.w3.org/2000/svg\" height=\"24px\"viewBox=\"0 0 24 24\"\n",
              "     width=\"24px\">\n",
              "    <g>\n",
              "        <path d=\"M19 3H5c-1.1 0-2 .9-2 2v14c0 1.1.9 2 2 2h14c1.1 0 2-.9 2-2V5c0-1.1-.9-2-2-2zM9 17H7v-7h2v7zm4 0h-2V7h2v10zm4 0h-2v-4h2v4z\"/>\n",
              "    </g>\n",
              "</svg>\n",
              "  </button>\n",
              "\n",
              "<style>\n",
              "  .colab-df-quickchart {\n",
              "      --bg-color: #E8F0FE;\n",
              "      --fill-color: #1967D2;\n",
              "      --hover-bg-color: #E2EBFA;\n",
              "      --hover-fill-color: #174EA6;\n",
              "      --disabled-fill-color: #AAA;\n",
              "      --disabled-bg-color: #DDD;\n",
              "  }\n",
              "\n",
              "  [theme=dark] .colab-df-quickchart {\n",
              "      --bg-color: #3B4455;\n",
              "      --fill-color: #D2E3FC;\n",
              "      --hover-bg-color: #434B5C;\n",
              "      --hover-fill-color: #FFFFFF;\n",
              "      --disabled-bg-color: #3B4455;\n",
              "      --disabled-fill-color: #666;\n",
              "  }\n",
              "\n",
              "  .colab-df-quickchart {\n",
              "    background-color: var(--bg-color);\n",
              "    border: none;\n",
              "    border-radius: 50%;\n",
              "    cursor: pointer;\n",
              "    display: none;\n",
              "    fill: var(--fill-color);\n",
              "    height: 32px;\n",
              "    padding: 0;\n",
              "    width: 32px;\n",
              "  }\n",
              "\n",
              "  .colab-df-quickchart:hover {\n",
              "    background-color: var(--hover-bg-color);\n",
              "    box-shadow: 0 1px 2px rgba(60, 64, 67, 0.3), 0 1px 3px 1px rgba(60, 64, 67, 0.15);\n",
              "    fill: var(--button-hover-fill-color);\n",
              "  }\n",
              "\n",
              "  .colab-df-quickchart-complete:disabled,\n",
              "  .colab-df-quickchart-complete:disabled:hover {\n",
              "    background-color: var(--disabled-bg-color);\n",
              "    fill: var(--disabled-fill-color);\n",
              "    box-shadow: none;\n",
              "  }\n",
              "\n",
              "  .colab-df-spinner {\n",
              "    border: 2px solid var(--fill-color);\n",
              "    border-color: transparent;\n",
              "    border-bottom-color: var(--fill-color);\n",
              "    animation:\n",
              "      spin 1s steps(1) infinite;\n",
              "  }\n",
              "\n",
              "  @keyframes spin {\n",
              "    0% {\n",
              "      border-color: transparent;\n",
              "      border-bottom-color: var(--fill-color);\n",
              "      border-left-color: var(--fill-color);\n",
              "    }\n",
              "    20% {\n",
              "      border-color: transparent;\n",
              "      border-left-color: var(--fill-color);\n",
              "      border-top-color: var(--fill-color);\n",
              "    }\n",
              "    30% {\n",
              "      border-color: transparent;\n",
              "      border-left-color: var(--fill-color);\n",
              "      border-top-color: var(--fill-color);\n",
              "      border-right-color: var(--fill-color);\n",
              "    }\n",
              "    40% {\n",
              "      border-color: transparent;\n",
              "      border-right-color: var(--fill-color);\n",
              "      border-top-color: var(--fill-color);\n",
              "    }\n",
              "    60% {\n",
              "      border-color: transparent;\n",
              "      border-right-color: var(--fill-color);\n",
              "    }\n",
              "    80% {\n",
              "      border-color: transparent;\n",
              "      border-right-color: var(--fill-color);\n",
              "      border-bottom-color: var(--fill-color);\n",
              "    }\n",
              "    90% {\n",
              "      border-color: transparent;\n",
              "      border-bottom-color: var(--fill-color);\n",
              "    }\n",
              "  }\n",
              "</style>\n",
              "\n",
              "  <script>\n",
              "    async function quickchart(key) {\n",
              "      const quickchartButtonEl =\n",
              "        document.querySelector('#' + key + ' button');\n",
              "      quickchartButtonEl.disabled = true;  // To prevent multiple clicks.\n",
              "      quickchartButtonEl.classList.add('colab-df-spinner');\n",
              "      try {\n",
              "        const charts = await google.colab.kernel.invokeFunction(\n",
              "            'suggestCharts', [key], {});\n",
              "      } catch (error) {\n",
              "        console.error('Error during call to suggestCharts:', error);\n",
              "      }\n",
              "      quickchartButtonEl.classList.remove('colab-df-spinner');\n",
              "      quickchartButtonEl.classList.add('colab-df-quickchart-complete');\n",
              "    }\n",
              "    (() => {\n",
              "      let quickchartButtonEl =\n",
              "        document.querySelector('#df-94f97221-7199-4774-9040-22343951ef80 button');\n",
              "      quickchartButtonEl.style.display =\n",
              "        google.colab.kernel.accessAllowed ? 'block' : 'none';\n",
              "    })();\n",
              "  </script>\n",
              "</div>\n",
              "\n",
              "    </div>\n",
              "  </div>\n"
            ]
          },
          "metadata": {},
          "execution_count": 21
        }
      ]
    },
    {
      "cell_type": "code",
      "source": [
        "X = data['cleaned_text'].values\n",
        "y = data['Tag_Number'].values\n",
        "print(type(X), type(y))\n",
        "print(y.dtype)\n",
        "print(X.dtype)"
      ],
      "metadata": {
        "colab": {
          "base_uri": "https://localhost:8080/"
        },
        "id": "__JZAg1hC9y2",
        "outputId": "00f04198-6437-43b1-bd3a-773036c0b63a"
      },
      "execution_count": null,
      "outputs": [
        {
          "output_type": "stream",
          "name": "stdout",
          "text": [
            "<class 'numpy.ndarray'> <class 'numpy.ndarray'>\n",
            "object\n",
            "object\n"
          ]
        }
      ]
    },
    {
      "cell_type": "code",
      "source": [
        "# Convert 'Tag_Number' column to a list of integers\n",
        "data['Tag_Number_list'] = data['Tag_Number'].apply(ast.literal_eval)"
      ],
      "metadata": {
        "id": "17n1PIYKaO8m"
      },
      "execution_count": null,
      "outputs": []
    },
    {
      "cell_type": "code",
      "source": [
        "data.head()"
      ],
      "metadata": {
        "colab": {
          "base_uri": "https://localhost:8080/",
          "height": 206
        },
        "id": "XZ_d-AK3Dng1",
        "outputId": "060c8e55-d448-4894-8ab0-a2260aeeec95"
      },
      "execution_count": null,
      "outputs": [
        {
          "output_type": "execute_result",
          "data": {
            "text/plain": [
              "                                        cleaned_text               Tags  \\\n",
              "0  asp query stre dropdown webpage follow control...         c# asp.net   \n",
              "1  run javascript code server java code want run ...    java javascript   \n",
              "2  linq sql throw exception row find change hi li...         c# asp.net   \n",
              "3  run python script php server run nginx web ser...         php python   \n",
              "4  advice write function m try write function res...  javascript jquery   \n",
              "\n",
              "  Tag_Number Tag_Number_list  \n",
              "0     [0, 9]          [0, 9]  \n",
              "1     [1, 3]          [1, 3]  \n",
              "2     [0, 9]          [0, 9]  \n",
              "3     [2, 7]          [2, 7]  \n",
              "4     [3, 5]          [3, 5]  "
            ],
            "text/html": [
              "\n",
              "  <div id=\"df-5308a652-b11b-47ba-8741-bd2e0cb1c137\" class=\"colab-df-container\">\n",
              "    <div>\n",
              "<style scoped>\n",
              "    .dataframe tbody tr th:only-of-type {\n",
              "        vertical-align: middle;\n",
              "    }\n",
              "\n",
              "    .dataframe tbody tr th {\n",
              "        vertical-align: top;\n",
              "    }\n",
              "\n",
              "    .dataframe thead th {\n",
              "        text-align: right;\n",
              "    }\n",
              "</style>\n",
              "<table border=\"1\" class=\"dataframe\">\n",
              "  <thead>\n",
              "    <tr style=\"text-align: right;\">\n",
              "      <th></th>\n",
              "      <th>cleaned_text</th>\n",
              "      <th>Tags</th>\n",
              "      <th>Tag_Number</th>\n",
              "      <th>Tag_Number_list</th>\n",
              "    </tr>\n",
              "  </thead>\n",
              "  <tbody>\n",
              "    <tr>\n",
              "      <th>0</th>\n",
              "      <td>asp query stre dropdown webpage follow control...</td>\n",
              "      <td>c# asp.net</td>\n",
              "      <td>[0, 9]</td>\n",
              "      <td>[0, 9]</td>\n",
              "    </tr>\n",
              "    <tr>\n",
              "      <th>1</th>\n",
              "      <td>run javascript code server java code want run ...</td>\n",
              "      <td>java javascript</td>\n",
              "      <td>[1, 3]</td>\n",
              "      <td>[1, 3]</td>\n",
              "    </tr>\n",
              "    <tr>\n",
              "      <th>2</th>\n",
              "      <td>linq sql throw exception row find change hi li...</td>\n",
              "      <td>c# asp.net</td>\n",
              "      <td>[0, 9]</td>\n",
              "      <td>[0, 9]</td>\n",
              "    </tr>\n",
              "    <tr>\n",
              "      <th>3</th>\n",
              "      <td>run python script php server run nginx web ser...</td>\n",
              "      <td>php python</td>\n",
              "      <td>[2, 7]</td>\n",
              "      <td>[2, 7]</td>\n",
              "    </tr>\n",
              "    <tr>\n",
              "      <th>4</th>\n",
              "      <td>advice write function m try write function res...</td>\n",
              "      <td>javascript jquery</td>\n",
              "      <td>[3, 5]</td>\n",
              "      <td>[3, 5]</td>\n",
              "    </tr>\n",
              "  </tbody>\n",
              "</table>\n",
              "</div>\n",
              "    <div class=\"colab-df-buttons\">\n",
              "\n",
              "  <div class=\"colab-df-container\">\n",
              "    <button class=\"colab-df-convert\" onclick=\"convertToInteractive('df-5308a652-b11b-47ba-8741-bd2e0cb1c137')\"\n",
              "            title=\"Convert this dataframe to an interactive table.\"\n",
              "            style=\"display:none;\">\n",
              "\n",
              "  <svg xmlns=\"http://www.w3.org/2000/svg\" height=\"24px\" viewBox=\"0 -960 960 960\">\n",
              "    <path d=\"M120-120v-720h720v720H120Zm60-500h600v-160H180v160Zm220 220h160v-160H400v160Zm0 220h160v-160H400v160ZM180-400h160v-160H180v160Zm440 0h160v-160H620v160ZM180-180h160v-160H180v160Zm440 0h160v-160H620v160Z\"/>\n",
              "  </svg>\n",
              "    </button>\n",
              "\n",
              "  <style>\n",
              "    .colab-df-container {\n",
              "      display:flex;\n",
              "      gap: 12px;\n",
              "    }\n",
              "\n",
              "    .colab-df-convert {\n",
              "      background-color: #E8F0FE;\n",
              "      border: none;\n",
              "      border-radius: 50%;\n",
              "      cursor: pointer;\n",
              "      display: none;\n",
              "      fill: #1967D2;\n",
              "      height: 32px;\n",
              "      padding: 0 0 0 0;\n",
              "      width: 32px;\n",
              "    }\n",
              "\n",
              "    .colab-df-convert:hover {\n",
              "      background-color: #E2EBFA;\n",
              "      box-shadow: 0px 1px 2px rgba(60, 64, 67, 0.3), 0px 1px 3px 1px rgba(60, 64, 67, 0.15);\n",
              "      fill: #174EA6;\n",
              "    }\n",
              "\n",
              "    .colab-df-buttons div {\n",
              "      margin-bottom: 4px;\n",
              "    }\n",
              "\n",
              "    [theme=dark] .colab-df-convert {\n",
              "      background-color: #3B4455;\n",
              "      fill: #D2E3FC;\n",
              "    }\n",
              "\n",
              "    [theme=dark] .colab-df-convert:hover {\n",
              "      background-color: #434B5C;\n",
              "      box-shadow: 0px 1px 3px 1px rgba(0, 0, 0, 0.15);\n",
              "      filter: drop-shadow(0px 1px 2px rgba(0, 0, 0, 0.3));\n",
              "      fill: #FFFFFF;\n",
              "    }\n",
              "  </style>\n",
              "\n",
              "    <script>\n",
              "      const buttonEl =\n",
              "        document.querySelector('#df-5308a652-b11b-47ba-8741-bd2e0cb1c137 button.colab-df-convert');\n",
              "      buttonEl.style.display =\n",
              "        google.colab.kernel.accessAllowed ? 'block' : 'none';\n",
              "\n",
              "      async function convertToInteractive(key) {\n",
              "        const element = document.querySelector('#df-5308a652-b11b-47ba-8741-bd2e0cb1c137');\n",
              "        const dataTable =\n",
              "          await google.colab.kernel.invokeFunction('convertToInteractive',\n",
              "                                                    [key], {});\n",
              "        if (!dataTable) return;\n",
              "\n",
              "        const docLinkHtml = 'Like what you see? Visit the ' +\n",
              "          '<a target=\"_blank\" href=https://colab.research.google.com/notebooks/data_table.ipynb>data table notebook</a>'\n",
              "          + ' to learn more about interactive tables.';\n",
              "        element.innerHTML = '';\n",
              "        dataTable['output_type'] = 'display_data';\n",
              "        await google.colab.output.renderOutput(dataTable, element);\n",
              "        const docLink = document.createElement('div');\n",
              "        docLink.innerHTML = docLinkHtml;\n",
              "        element.appendChild(docLink);\n",
              "      }\n",
              "    </script>\n",
              "  </div>\n",
              "\n",
              "\n",
              "<div id=\"df-ee549fb7-38f5-4b86-ac1a-904130d017aa\">\n",
              "  <button class=\"colab-df-quickchart\" onclick=\"quickchart('df-ee549fb7-38f5-4b86-ac1a-904130d017aa')\"\n",
              "            title=\"Suggest charts.\"\n",
              "            style=\"display:none;\">\n",
              "\n",
              "<svg xmlns=\"http://www.w3.org/2000/svg\" height=\"24px\"viewBox=\"0 0 24 24\"\n",
              "     width=\"24px\">\n",
              "    <g>\n",
              "        <path d=\"M19 3H5c-1.1 0-2 .9-2 2v14c0 1.1.9 2 2 2h14c1.1 0 2-.9 2-2V5c0-1.1-.9-2-2-2zM9 17H7v-7h2v7zm4 0h-2V7h2v10zm4 0h-2v-4h2v4z\"/>\n",
              "    </g>\n",
              "</svg>\n",
              "  </button>\n",
              "\n",
              "<style>\n",
              "  .colab-df-quickchart {\n",
              "      --bg-color: #E8F0FE;\n",
              "      --fill-color: #1967D2;\n",
              "      --hover-bg-color: #E2EBFA;\n",
              "      --hover-fill-color: #174EA6;\n",
              "      --disabled-fill-color: #AAA;\n",
              "      --disabled-bg-color: #DDD;\n",
              "  }\n",
              "\n",
              "  [theme=dark] .colab-df-quickchart {\n",
              "      --bg-color: #3B4455;\n",
              "      --fill-color: #D2E3FC;\n",
              "      --hover-bg-color: #434B5C;\n",
              "      --hover-fill-color: #FFFFFF;\n",
              "      --disabled-bg-color: #3B4455;\n",
              "      --disabled-fill-color: #666;\n",
              "  }\n",
              "\n",
              "  .colab-df-quickchart {\n",
              "    background-color: var(--bg-color);\n",
              "    border: none;\n",
              "    border-radius: 50%;\n",
              "    cursor: pointer;\n",
              "    display: none;\n",
              "    fill: var(--fill-color);\n",
              "    height: 32px;\n",
              "    padding: 0;\n",
              "    width: 32px;\n",
              "  }\n",
              "\n",
              "  .colab-df-quickchart:hover {\n",
              "    background-color: var(--hover-bg-color);\n",
              "    box-shadow: 0 1px 2px rgba(60, 64, 67, 0.3), 0 1px 3px 1px rgba(60, 64, 67, 0.15);\n",
              "    fill: var(--button-hover-fill-color);\n",
              "  }\n",
              "\n",
              "  .colab-df-quickchart-complete:disabled,\n",
              "  .colab-df-quickchart-complete:disabled:hover {\n",
              "    background-color: var(--disabled-bg-color);\n",
              "    fill: var(--disabled-fill-color);\n",
              "    box-shadow: none;\n",
              "  }\n",
              "\n",
              "  .colab-df-spinner {\n",
              "    border: 2px solid var(--fill-color);\n",
              "    border-color: transparent;\n",
              "    border-bottom-color: var(--fill-color);\n",
              "    animation:\n",
              "      spin 1s steps(1) infinite;\n",
              "  }\n",
              "\n",
              "  @keyframes spin {\n",
              "    0% {\n",
              "      border-color: transparent;\n",
              "      border-bottom-color: var(--fill-color);\n",
              "      border-left-color: var(--fill-color);\n",
              "    }\n",
              "    20% {\n",
              "      border-color: transparent;\n",
              "      border-left-color: var(--fill-color);\n",
              "      border-top-color: var(--fill-color);\n",
              "    }\n",
              "    30% {\n",
              "      border-color: transparent;\n",
              "      border-left-color: var(--fill-color);\n",
              "      border-top-color: var(--fill-color);\n",
              "      border-right-color: var(--fill-color);\n",
              "    }\n",
              "    40% {\n",
              "      border-color: transparent;\n",
              "      border-right-color: var(--fill-color);\n",
              "      border-top-color: var(--fill-color);\n",
              "    }\n",
              "    60% {\n",
              "      border-color: transparent;\n",
              "      border-right-color: var(--fill-color);\n",
              "    }\n",
              "    80% {\n",
              "      border-color: transparent;\n",
              "      border-right-color: var(--fill-color);\n",
              "      border-bottom-color: var(--fill-color);\n",
              "    }\n",
              "    90% {\n",
              "      border-color: transparent;\n",
              "      border-bottom-color: var(--fill-color);\n",
              "    }\n",
              "  }\n",
              "</style>\n",
              "\n",
              "  <script>\n",
              "    async function quickchart(key) {\n",
              "      const quickchartButtonEl =\n",
              "        document.querySelector('#' + key + ' button');\n",
              "      quickchartButtonEl.disabled = true;  // To prevent multiple clicks.\n",
              "      quickchartButtonEl.classList.add('colab-df-spinner');\n",
              "      try {\n",
              "        const charts = await google.colab.kernel.invokeFunction(\n",
              "            'suggestCharts', [key], {});\n",
              "      } catch (error) {\n",
              "        console.error('Error during call to suggestCharts:', error);\n",
              "      }\n",
              "      quickchartButtonEl.classList.remove('colab-df-spinner');\n",
              "      quickchartButtonEl.classList.add('colab-df-quickchart-complete');\n",
              "    }\n",
              "    (() => {\n",
              "      let quickchartButtonEl =\n",
              "        document.querySelector('#df-ee549fb7-38f5-4b86-ac1a-904130d017aa button');\n",
              "      quickchartButtonEl.style.display =\n",
              "        google.colab.kernel.accessAllowed ? 'block' : 'none';\n",
              "    })();\n",
              "  </script>\n",
              "</div>\n",
              "\n",
              "    </div>\n",
              "  </div>\n"
            ]
          },
          "metadata": {},
          "execution_count": 24
        }
      ]
    },
    {
      "cell_type": "code",
      "source": [
        "# Initialize MultiLabelBinarizer\n",
        "mlb = MultiLabelBinarizer(classes=np.arange(10))\n",
        "\n",
        "y_final = data['Tag_Number_list'].values\n",
        "\n",
        "# Transform the 'Tag_Number' column into one-hot encoded labels\n",
        "y_one_hot = mlb.fit_transform(y_final)\n",
        "y_one_hot\n"
      ],
      "metadata": {
        "id": "PiNYvpiXavBE",
        "colab": {
          "base_uri": "https://localhost:8080/"
        },
        "outputId": "fd624bac-9c87-4a79-f951-fbcc5899aa44"
      },
      "execution_count": null,
      "outputs": [
        {
          "output_type": "execute_result",
          "data": {
            "text/plain": [
              "array([[1, 0, 0, ..., 0, 0, 1],\n",
              "       [0, 1, 0, ..., 0, 0, 0],\n",
              "       [1, 0, 0, ..., 0, 0, 1],\n",
              "       ...,\n",
              "       [0, 1, 0, ..., 0, 0, 0],\n",
              "       [0, 0, 0, ..., 0, 0, 1],\n",
              "       [0, 0, 0, ..., 0, 0, 0]])"
            ]
          },
          "metadata": {},
          "execution_count": 25
        }
      ]
    },
    {
      "cell_type": "code",
      "source": [
        "y = y_one_hot"
      ],
      "metadata": {
        "id": "EaBb_pGV-5Sy"
      },
      "execution_count": null,
      "outputs": []
    },
    {
      "cell_type": "code",
      "source": [
        "# Split the data into train (60%), validation (20%), and test (20%) sets\n",
        "X_train, X_temp, y_train, y_temp = train_test_split(X, y, test_size=0.4, random_state=42)\n",
        "X_valid, X_test, y_valid, y_test = train_test_split(X_temp, y_temp, test_size=0.5, random_state=42)\n"
      ],
      "metadata": {
        "id": "ZUMwKsZxm6Uj"
      },
      "execution_count": null,
      "outputs": []
    },
    {
      "cell_type": "code",
      "source": [
        "print(len(X_train), len(X_valid), len(X_test))"
      ],
      "metadata": {
        "id": "7kcZDtGGa_cy",
        "colab": {
          "base_uri": "https://localhost:8080/"
        },
        "outputId": "95558450-e0b8-4431-9295-276763eaaf94"
      },
      "execution_count": null,
      "outputs": [
        {
          "output_type": "stream",
          "name": "stdout",
          "text": [
            "28456 9485 9486\n"
          ]
        }
      ]
    },
    {
      "cell_type": "markdown",
      "metadata": {
        "id": "FTIKaTsTgvYu"
      },
      "source": [
        "## <Font color = 'indianred'>**Custom Dataset Class**"
      ]
    },
    {
      "cell_type": "code",
      "execution_count": null,
      "metadata": {
        "execution": {
          "iopub.execute_input": "2022-10-24T09:22:07.037149Z",
          "iopub.status.busy": "2022-10-24T09:22:07.036975Z",
          "iopub.status.idle": "2022-10-24T09:22:07.063057Z",
          "shell.execute_reply": "2022-10-24T09:22:07.062578Z",
          "shell.execute_reply.started": "2022-10-24T09:22:07.037135Z"
        },
        "id": "kul5dyeM2d4k"
      },
      "outputs": [],
      "source": [
        "class CustomDataset(torch.utils.data.Dataset):\n",
        "\n",
        "    def __init__(self, X, y):\n",
        "        # Converting the feature data to a NumPy array for consistency\n",
        "        self.X = np.array(X)\n",
        "\n",
        "        # Storing the target labels\n",
        "        self.y = y\n",
        "\n",
        "    def __len__(self):\n",
        "        return len(self.X)\n",
        "\n",
        "    def __getitem__(self, idx):\n",
        "        # Retrieve the text and corresponding label from the dataset using the index\n",
        "        texts = self.X[idx]\n",
        "        labels = self.y[idx]\n",
        "\n",
        "        # Packing them into a tuple before returning\n",
        "        sample = (labels, texts)\n",
        "\n",
        "        return sample"
      ]
    },
    {
      "cell_type": "code",
      "execution_count": null,
      "metadata": {
        "execution": {
          "iopub.execute_input": "2022-10-24T09:22:07.063940Z",
          "iopub.status.busy": "2022-10-24T09:22:07.063802Z",
          "iopub.status.idle": "2022-10-24T09:22:07.471457Z",
          "shell.execute_reply": "2022-10-24T09:22:07.470796Z",
          "shell.execute_reply.started": "2022-10-24T09:22:07.063927Z"
        },
        "id": "R1mKoKSlAxAq"
      },
      "outputs": [],
      "source": [
        "trainset = CustomDataset(X_train, y_train)\n",
        "validset = CustomDataset(X_valid, y_valid)\n",
        "testset = CustomDataset(X_test, y_test)"
      ]
    },
    {
      "cell_type": "code",
      "execution_count": null,
      "metadata": {
        "colab": {
          "base_uri": "https://localhost:8080/",
          "height": 104
        },
        "id": "6loB7gEAk4dg",
        "outputId": "419a1034-7fbe-4e8f-b2de-36e737414074"
      },
      "outputs": [
        {
          "output_type": "execute_result",
          "data": {
            "text/plain": [
              "'drop default selection cause search begin search page textboxe user enter datum search   date textboxe date range enter   drop select date field want filter date range textboxe enable default   select date field drop enter date   default drop selection   blank select date field change date field drop ok   select datefield drop switch default blank trigger search   want happen   want search happen click search button    protect void ddldatetype_selectedindexchanged(object sender eventargs e               ddldatetype selectedvalue =                       txtsearchenddate enabled = true              txtsearchstartdate enabled = true                                          txtsearchenddate text =              txtsearchstartdate text =              txtsearchenddate enable = false              txtsearchstartdate enable = false                 tell stop search run switch default selection drop   comment code result    select default search start select default search trigger'"
            ],
            "application/vnd.google.colaboratory.intrinsic+json": {
              "type": "string"
            }
          },
          "metadata": {},
          "execution_count": 31
        }
      ],
      "source": [
        "trainset[1][1]"
      ]
    },
    {
      "cell_type": "code",
      "execution_count": null,
      "metadata": {
        "colab": {
          "base_uri": "https://localhost:8080/"
        },
        "id": "Y6wkqy7QZCcD",
        "outputId": "470c63c8-8db2-46f9-af3d-3d355ea2f7f1"
      },
      "outputs": [
        {
          "output_type": "execute_result",
          "data": {
            "text/plain": [
              "array([1, 0, 0, 0, 0, 0, 0, 0, 0, 1])"
            ]
          },
          "metadata": {},
          "execution_count": 32
        }
      ],
      "source": [
        "trainset[1][0]"
      ]
    },
    {
      "cell_type": "markdown",
      "metadata": {
        "id": "XoEVe7eGtY7U"
      },
      "source": [
        "## <Font color = 'indianred'>**Create Vocab**"
      ]
    },
    {
      "cell_type": "code",
      "execution_count": null,
      "metadata": {
        "execution": {
          "iopub.execute_input": "2022-10-24T09:22:07.475835Z",
          "iopub.status.busy": "2022-10-24T09:22:07.475552Z",
          "iopub.status.idle": "2022-10-24T09:22:07.505585Z",
          "shell.execute_reply": "2022-10-24T09:22:07.505110Z",
          "shell.execute_reply.started": "2022-10-24T09:22:07.475808Z"
        },
        "id": "LRLHO-M1to6q"
      },
      "outputs": [],
      "source": [
        "def get_vocab(dataset, min_freq=1):\n",
        "    # Initialize a counter object to hold token frequencies\n",
        "    counter = Counter()\n",
        "\n",
        "    # Update the counter with tokens from each text in the dataset\n",
        "    for (l_, text) in dataset:\n",
        "        counter.update(str(text).split())\n",
        "\n",
        "    # Create a vocabulary using the counter object\n",
        "    # Tokens that appear fewer times than `min_freq` are excluded\n",
        "    my_vocab = vocab(counter, min_freq=min_freq)\n",
        "\n",
        "    # Insert a '<unk>' token at index 0 to represent unknown words\n",
        "    my_vocab.insert_token('<unk>', 0)\n",
        "\n",
        "    # Set the default index to 0\n",
        "    # This ensures that any unknown word will be mapped to '<unk>'\n",
        "    my_vocab.set_default_index(0)\n",
        "\n",
        "    return my_vocab\n"
      ]
    },
    {
      "cell_type": "code",
      "execution_count": null,
      "metadata": {
        "execution": {
          "iopub.execute_input": "2022-10-24T09:22:07.506294Z",
          "iopub.status.busy": "2022-10-24T09:22:07.506154Z",
          "iopub.status.idle": "2022-10-24T09:22:08.211189Z",
          "shell.execute_reply": "2022-10-24T09:22:08.210609Z",
          "shell.execute_reply.started": "2022-10-24T09:22:07.506280Z"
        },
        "id": "wNUi_aNctkAo"
      },
      "outputs": [],
      "source": [
        "stack_vocab = get_vocab(trainset, min_freq=2)"
      ]
    },
    {
      "cell_type": "code",
      "execution_count": null,
      "metadata": {
        "colab": {
          "base_uri": "https://localhost:8080/"
        },
        "execution": {
          "iopub.execute_input": "2022-10-24T09:22:08.211908Z",
          "iopub.status.busy": "2022-10-24T09:22:08.211772Z",
          "iopub.status.idle": "2022-10-24T09:22:08.239663Z",
          "shell.execute_reply": "2022-10-24T09:22:08.239191Z",
          "shell.execute_reply.started": "2022-10-24T09:22:08.211894Z"
        },
        "id": "ask8H1QJJMZK",
        "outputId": "6b7db703-8615-49af-b3dd-7d53dd46c914"
      },
      "outputs": [
        {
          "output_type": "execute_result",
          "data": {
            "text/plain": [
              "90287"
            ]
          },
          "metadata": {},
          "execution_count": 35
        }
      ],
      "source": [
        "len(stack_vocab)"
      ]
    },
    {
      "cell_type": "code",
      "execution_count": null,
      "metadata": {
        "colab": {
          "base_uri": "https://localhost:8080/"
        },
        "execution": {
          "iopub.execute_input": "2022-10-24T09:22:08.240488Z",
          "iopub.status.busy": "2022-10-24T09:22:08.240291Z",
          "iopub.status.idle": "2022-10-24T09:22:08.269589Z",
          "shell.execute_reply": "2022-10-24T09:22:08.268970Z",
          "shell.execute_reply.started": "2022-10-24T09:22:08.240474Z"
        },
        "id": "eyaeFqCsuRTQ",
        "outputId": "0f4301cd-a293-459d-bb33-c2cb2f376f8b",
        "tags": []
      },
      "outputs": [
        {
          "output_type": "execute_result",
          "data": {
            "text/plain": [
              "['<unk>', 'rearrange', 'order', 'list', 'web']"
            ]
          },
          "metadata": {},
          "execution_count": 36
        }
      ],
      "source": [
        "stack_vocab.get_itos()[0:5]"
      ]
    },
    {
      "cell_type": "markdown",
      "metadata": {
        "id": "ojvSMWR5u-LU"
      },
      "source": [
        "## <Font color = 'indianred'>**Collate_fn for Data Loaders**"
      ]
    },
    {
      "cell_type": "code",
      "execution_count": null,
      "metadata": {
        "execution": {
          "iopub.execute_input": "2022-10-24T09:22:08.296819Z",
          "iopub.status.busy": "2022-10-24T09:22:08.296636Z",
          "iopub.status.idle": "2022-10-24T09:22:08.322287Z",
          "shell.execute_reply": "2022-10-24T09:22:08.321891Z",
          "shell.execute_reply.started": "2022-10-24T09:22:08.296805Z"
        },
        "id": "cdBKJlVmvB-9"
      },
      "outputs": [],
      "source": [
        "# Creating a function that will be used to get the indices of words from vocab\n",
        "def text_pipeline(x, vocab):\n",
        "    \"\"\"Converts text to a list of indices using a vocabulary dictionary\"\"\"\n",
        "    return [vocab[token] for token in str(x).split()]"
      ]
    },
    {
      "cell_type": "code",
      "execution_count": null,
      "metadata": {
        "execution": {
          "iopub.execute_input": "2022-10-24T09:22:08.323133Z",
          "iopub.status.busy": "2022-10-24T09:22:08.322814Z",
          "iopub.status.idle": "2022-10-24T09:22:08.349717Z",
          "shell.execute_reply": "2022-10-24T09:22:08.349148Z",
          "shell.execute_reply.started": "2022-10-24T09:22:08.323120Z"
        },
        "id": "cL1TZVthvIT2"
      },
      "outputs": [],
      "source": [
        "def collate_batch(batch, my_vocab):\n",
        "    labels, texts = zip(*batch)\n",
        "    labels = torch.tensor(labels, dtype=torch.float64) #dtype updated\n",
        "    list_of_list_of_indices = [text_pipeline(text, my_vocab) for text in texts]\n",
        "\n",
        "    offsets = [0] + [len(i) for i in list_of_list_of_indices]\n",
        "    offsets = torch.tensor(offsets[:-1]).cumsum(dim=0)\n",
        "\n",
        "    # Concatenate all text indices into a single tensor\n",
        "    texts = torch.cat([torch.tensor(i, dtype=torch.int64) for i in list_of_list_of_indices])\n",
        "\n",
        "    return (texts, offsets), labels\n",
        "\n"
      ]
    },
    {
      "cell_type": "markdown",
      "source": [
        "# <Font color = 'indianred'>**Model**\n",
        "embedding_layer-->linear--> ReLU -->dropout --> batch norm --> linear-->ReLu-->Dropout--> batchnorm ---> linear layer"
      ],
      "metadata": {
        "id": "8B3UsGNIN81Z"
      }
    },
    {
      "cell_type": "code",
      "source": [
        "class CustomBlock(nn.Module):\n",
        "    def __init__(self, input_dim, output_dim, drop_prob):\n",
        "\n",
        "        super().__init__()\n",
        "\n",
        "        self.layers = nn.Sequential(\n",
        "            nn.Linear(input_dim, output_dim),\n",
        "            nn.BatchNorm1d(num_features=output_dim),\n",
        "            nn.ReLU(),\n",
        "            nn.Dropout(p=drop_prob),\n",
        "\n",
        "        )\n",
        "    def forward(self, x):\n",
        "      return self.layers(x)\n",
        "\n"
      ],
      "metadata": {
        "id": "XTokWypBN-mw"
      },
      "execution_count": null,
      "outputs": []
    },
    {
      "cell_type": "code",
      "source": [
        "class CustomMLP(nn.Module):\n",
        "    def __init__(self, vocab_size, embedding_dim, hidden_dim1, hidden_dim2, drop_prob1, drop_prob2, num_outputs):\n",
        "        super().__init__()\n",
        "\n",
        "        self.embedding_bag = nn.EmbeddingBag(vocab_size, embedding_dim)\n",
        "        self.layers = nn.Sequential(\n",
        "            CustomBlock(embedding_dim , hidden_dim1, drop_prob1),\n",
        "            CustomBlock(hidden_dim1, hidden_dim2, drop_prob2),\n",
        "            nn.Linear(hidden_dim2, num_outputs)\n",
        "        )\n",
        "\n",
        "    def forward(self, input_tuple):\n",
        "        data, offsets = input_tuple\n",
        "        embed_out = self.embedding_bag(data, offsets)\n",
        "        out = self.layers(embed_out)\n",
        "\n",
        "        return out"
      ],
      "metadata": {
        "id": "AjTWmEvOOFt5"
      },
      "execution_count": null,
      "outputs": []
    },
    {
      "cell_type": "markdown",
      "metadata": {
        "id": "aqI_o6qwy6lb"
      },
      "source": [
        "# <Font color = 'indianred'>**Model Training Functions**\n",
        "\n",
        "\n"
      ]
    },
    {
      "cell_type": "markdown",
      "source": [
        "## <Font color = 'indianred'>**Step Function**"
      ],
      "metadata": {
        "id": "ndebVBmw_GMp"
      }
    },
    {
      "cell_type": "code",
      "source": [
        "def step(inputs, targets, model, device, loss_function=None, optimizer=None, hamming_distance=None, threshold=0.0):\n",
        "\n",
        "    # Move the model and data to the device\n",
        "    model = model.to(device)\n",
        "    inputs = tuple(input_tensor.to(device) for input_tensor in inputs)\n",
        "    targets = targets.to(device)\n",
        "\n",
        "    # Step 1: Forward pass to get the model's predictions\n",
        "    outputs = model(inputs)\n",
        "\n",
        "    # Step 2: Compute the loss using the provided loss function\n",
        "    if loss_function:\n",
        "        loss = loss_function(outputs, targets)\n",
        "\n",
        "    # Step 3 and 4: Perform backward pass and update model parameters if an optimizer is provided\n",
        "    if optimizer:\n",
        "        optimizer.zero_grad()\n",
        "        loss.backward()\n",
        "        # Clip gradients before the optimizer step\n",
        "        torch.nn.utils.clip_grad_value_(model.parameters(), clip_value=10.0)\n",
        "        # Update model parameters\n",
        "        optimizer.step()\n",
        "\n",
        "    # Step 5: Apply thresholding to the model's outputs\n",
        "    with torch.no_grad():\n",
        "        outputs = (torch.sigmoid(outputs) >= threshold).float()\n",
        "\n",
        "    # Step 6: Update the Hamming Distance metric (if provided)\n",
        "    if hamming_distance:\n",
        "        hamming_distance.update(outputs, targets)\n",
        "\n",
        "    # Step 7: Return relevant metrics\n",
        "    if loss_function:\n",
        "        return loss, outputs, hamming_distance\n",
        "    else:\n",
        "        return outputs, targets\n"
      ],
      "metadata": {
        "id": "GEM8sbJu8ADo"
      },
      "execution_count": null,
      "outputs": []
    },
    {
      "cell_type": "markdown",
      "source": [
        "## <Font color = 'indianred'>**Train_Epoch Function**"
      ],
      "metadata": {
        "id": "bkT0zT_XYL4s"
      }
    },
    {
      "cell_type": "code",
      "source": [
        "def train_epoch(train_loader, model, device, loss_function, optimizer, train_hamming_distance):\n",
        "\n",
        "    # Set the model to training mode\n",
        "    model.train()\n",
        "\n",
        "    # Initialize variables to track running training loss and correct predictions\n",
        "    running_train_loss = 0.0\n",
        "    tr_epoch_metric = None\n",
        "\n",
        "    # Iterate over all batches in the training data\n",
        "    for i, (inputs, targets) in enumerate(train_loader):\n",
        "        # Perform a forward and backward pass, updating model parameters\n",
        "        loss, _, epoch_hamming_distance = step(inputs, targets, model, device, loss_function, optimizer, train_hamming_distance)\n",
        "\n",
        "        # Update running loss counter\n",
        "        running_train_loss += loss.item()\n",
        "\n",
        "    # Compute average loss and accuracy for the entire training set\n",
        "    train_loss = running_train_loss / len(train_loader)\n",
        "\n",
        "    if epoch_hamming_distance is not None:\n",
        "        tr_epoch_metric = epoch_hamming_distance.compute().item()\n",
        "        epoch_hamming_distance.reset()\n",
        "\n",
        "\n",
        "    return train_loss, tr_epoch_metric\n"
      ],
      "metadata": {
        "id": "J2BpCxsrAnqf"
      },
      "execution_count": null,
      "outputs": []
    },
    {
      "cell_type": "markdown",
      "source": [
        "## <Font color = 'indianred'>**Val_Epoch Function**\n"
      ],
      "metadata": {
        "id": "_eMtYWiBYSvv"
      }
    },
    {
      "cell_type": "code",
      "source": [
        "def val_epoch(valid_loader, model, device, loss_function, train_hamming_distance):\n",
        "    # Set the model to evaluation mode\n",
        "    model.eval()\n",
        "\n",
        "    # Initialize variables to track running validation loss and correct predictions\n",
        "    running_val_loss = 0.0\n",
        "    val_epoch_metric = None\n",
        "\n",
        "    # with torch.no_grad():\n",
        "    # Iterate over all batches in the validation data\n",
        "    for i, (inputs, targets) in enumerate(valid_loader):\n",
        "        # Perform a forward pass to get loss and number of correct predictions\n",
        "        loss, _, val_epoch_hamming_distance = step(inputs, targets, model, device, loss_function, optimizer=None, hamming_distance=train_hamming_distance)\n",
        "\n",
        "        # Update running loss and correct predictions counter\n",
        "        running_val_loss += loss.item()\n",
        "\n",
        "    # Compute average loss and accuracy for the entire validation set\n",
        "    val_loss = running_val_loss / len(valid_loader)\n",
        "\n",
        "    if val_epoch_hamming_distance is None:\n",
        "      print(\"This is none\")\n",
        "\n",
        "    if val_epoch_hamming_distance is not None:\n",
        "        val_epoch_metric = val_epoch_hamming_distance.compute().item()\n",
        "        val_epoch_hamming_distance.reset()\n",
        "\n",
        "    # val_epoch_metric = val_epoch_hamming_distance.compute().item()\n",
        "    # val_epoch_hamming_distance.reset()\n",
        "\n",
        "\n",
        "    return val_loss, val_epoch_metric\n"
      ],
      "metadata": {
        "id": "uCGiGJtkAxQe"
      },
      "execution_count": null,
      "outputs": []
    },
    {
      "cell_type": "markdown",
      "source": [
        "## <Font color = 'indianred'>**Train Function**"
      ],
      "metadata": {
        "id": "rp-VIoEBYWDg"
      }
    },
    {
      "cell_type": "code",
      "source": [
        "def train(train_loader, valid_loader, model, optimizer, loss_function, epochs, device):\n",
        "    # Initialize lists to store metrics for each epoch\n",
        "    train_loss_history = []\n",
        "    valid_loss_history = []\n",
        "\n",
        "\n",
        "    train_hamming_distance = HammingDistance(task=\"multilabel\", num_labels=10).to(device)\n",
        "\n",
        "    # Loop over the number of specified epochs\n",
        "    for epoch in range(epochs):\n",
        "        # Train model on training data and capture metrics\n",
        "        train_loss, train_metric = train_epoch(\n",
        "            train_loader, model, device, loss_function, optimizer, train_hamming_distance)\n",
        "\n",
        "        # Validate model on validation data and capture metrics\n",
        "        valid_loss, val_metric = val_epoch(\n",
        "            valid_loader, model, device, loss_function, train_hamming_distance)\n",
        "\n",
        "        # Store metrics for this epoch\n",
        "        train_loss_history.append(train_loss)\n",
        "        valid_loss_history.append(valid_loss)\n",
        "\n",
        "\n",
        "        # Output epoch-level summary\n",
        "        print(f\"Epoch {epoch+1}/{epochs}\")\n",
        "        print(f'Train Loss: {train_loss:.4f} | Train Hamming Distance: {train_metric:.4f}')\n",
        "        print(f'Val Loss: {valid_loss:.4f} | Val Hamming Distance: {val_metric:.4f}')\n",
        "        print()\n",
        "\n",
        "\n",
        "    return train_loss_history, train_metric, valid_loss_history, val_metric\n"
      ],
      "metadata": {
        "id": "kBKa4xPxA9-n"
      },
      "execution_count": null,
      "outputs": []
    },
    {
      "cell_type": "markdown",
      "metadata": {
        "id": "5nF5iTy_VqdV"
      },
      "source": [
        "# <Font color = 'indianred'>**Hyperparameters**"
      ]
    },
    {
      "cell_type": "code",
      "execution_count": null,
      "metadata": {
        "execution": {
          "iopub.execute_input": "2022-10-24T09:22:08.767546Z",
          "iopub.status.busy": "2022-10-24T09:22:08.767317Z",
          "iopub.status.idle": "2022-10-24T09:22:08.794203Z",
          "shell.execute_reply": "2022-10-24T09:22:08.793600Z",
          "shell.execute_reply.started": "2022-10-24T09:22:08.767526Z"
        },
        "id": "TAuG3mxBWHaz"
      },
      "outputs": [],
      "source": [
        "hyperparameters = SimpleNamespace(\n",
        "    # model Parameters\n",
        "    EMBED_DIM=300,\n",
        "    VOCAB_SIZE=len(stack_vocab),\n",
        "    OUTPUT_DIM=10,\n",
        "    HIDDEN_DIM1=200,\n",
        "    HIDDEN_DIM2=100,\n",
        "    DROP_PROB1=0.5,\n",
        "    DROP_PROB2=0.5,\n",
        "    NUM_OUTPUTS=10,\n",
        "\n",
        "    # training\n",
        "    EPOCHS=5,\n",
        "    BATCH_SIZE=128,\n",
        "    LEARNING_RATE=0.001,\n",
        "    WEIGHT_DECAY=0.000,\n",
        "    CLIP_TYPE='value',\n",
        "    CLIP_VALUE=10,\n",
        "    PATIENCE=5,\n",
        ")\n"
      ]
    },
    {
      "cell_type": "markdown",
      "metadata": {
        "id": "oVk_RctgdPRP"
      },
      "source": [
        "# <Font color = 'indianred'>**Training Configuration**"
      ]
    },
    {
      "cell_type": "code",
      "execution_count": null,
      "metadata": {
        "execution": {
          "iopub.execute_input": "2022-10-24T09:22:14.283277Z",
          "iopub.status.busy": "2022-10-24T09:22:14.283050Z",
          "iopub.status.idle": "2022-10-24T09:22:14.433708Z",
          "shell.execute_reply": "2022-10-24T09:22:14.433252Z",
          "shell.execute_reply.started": "2022-10-24T09:22:14.283255Z"
        },
        "id": "fZ6ZoM9WaS_M",
        "tags": []
      },
      "outputs": [],
      "source": [
        "# Fix seed value\n",
        "SEED = 2345\n",
        "random.seed(SEED)\n",
        "np.random.seed(SEED)\n",
        "torch.manual_seed(SEED)\n",
        "torch.cuda.manual_seed(SEED)\n",
        "torch.backends.cudnn.deterministic = True\n",
        "\n",
        "collate_fn = partial(collate_batch, my_vocab=stack_vocab)\n",
        "\n",
        "# Data Loader\n",
        "train_loader = torch.utils.data.DataLoader(trainset, batch_size=hyperparameters.BATCH_SIZE, shuffle=True,\n",
        "                                           collate_fn=collate_fn, num_workers=2)\n",
        "valid_loader = torch.utils.data.DataLoader(validset, batch_size=hyperparameters.BATCH_SIZE, shuffle=False,\n",
        "                                           collate_fn=collate_fn,  num_workers=2)\n",
        "test_loader = torch.utils.data.DataLoader(testset, batch_size=hyperparameters.BATCH_SIZE,   shuffle=False,\n",
        "                                          collate_fn=collate_fn,  num_workers=2)\n",
        "\n",
        "# Binary cross entropy with Logit loss function for multilabel classification\n",
        "loss_function =  nn.BCEWithLogitsLoss()\n",
        "\n",
        "# model\n",
        "stack_imdb = CustomMLP(vocab_size=hyperparameters.VOCAB_SIZE,\n",
        "                       embedding_dim=hyperparameters.EMBED_DIM,\n",
        "                       hidden_dim1=hyperparameters.HIDDEN_DIM1,\n",
        "                       hidden_dim2=hyperparameters.HIDDEN_DIM2,\n",
        "                       drop_prob1=hyperparameters.DROP_PROB1,\n",
        "                       drop_prob2=hyperparameters.DROP_PROB2,\n",
        "                       num_outputs=hyperparameters.NUM_OUTPUTS)\n",
        "\n",
        "def init_weights(m):\n",
        "    if type(m) == nn.Linear:\n",
        "        torch.nn.init.kaiming_normal_(m.weight)\n",
        "        torch.nn.init.zeros_(m.bias)\n",
        "\n",
        "\n",
        "# apply initialization recursively  to all modules\n",
        "stack_imdb.apply(init_weights)\n",
        "\n",
        "# Intialize stochiastic gradient descent optimizer\n",
        "optimizer = torch.optim.AdamW(stack_imdb.parameters(),\n",
        "                             lr=hyperparameters.LEARNING_RATE,\n",
        "\n",
        "                             )\n",
        "\n",
        "device = torch.device('cuda:0' if torch.cuda.is_available() else 'cpu')"
      ]
    },
    {
      "cell_type": "markdown",
      "metadata": {
        "id": "ffeGh2dcukdK"
      },
      "source": [
        "# <Font color = 'indianred'>**Sanity Check**\n",
        "- Check the loss without any training. For Cross entropy the expected value will be log(number of classes)"
      ]
    },
    {
      "cell_type": "code",
      "source": [
        "import warnings\n",
        "warnings.filterwarnings(\"ignore\")"
      ],
      "metadata": {
        "id": "YBgzkpsqQxLo"
      },
      "execution_count": null,
      "outputs": []
    },
    {
      "cell_type": "code",
      "execution_count": null,
      "metadata": {
        "colab": {
          "base_uri": "https://localhost:8080/"
        },
        "execution": {
          "iopub.execute_input": "2022-10-24T09:22:14.462462Z",
          "iopub.status.busy": "2022-10-24T09:22:14.462136Z",
          "iopub.status.idle": "2022-10-24T09:22:14.705187Z",
          "shell.execute_reply": "2022-10-24T09:22:14.704720Z",
          "shell.execute_reply.started": "2022-10-24T09:22:14.462447Z"
        },
        "id": "p2Gx7jgbumux",
        "outputId": "ce0ba2d0-8885-49d3-99aa-169a69cabf9a",
        "tags": []
      },
      "outputs": [
        {
          "output_type": "stream",
          "name": "stdout",
          "text": [
            "Actual loss: 0.6804529574706977\n",
            "Expected Theoretical loss: 0.6931471805599453\n"
          ]
        }
      ],
      "source": [
        "for input_, targets  in train_loader:\n",
        "\n",
        "    # move inputs and outputs to GPUs\n",
        "    stack_imdb = stack_imdb.to(device)\n",
        "\n",
        "    input_ = tuple(input_tensor.to(device)\n",
        "                            for input_tensor in input_)\n",
        "    targets = targets.to(device)\n",
        "\n",
        "    stack_imdb.eval()\n",
        "    # Forward pass\n",
        "    output = stack_imdb(input_)\n",
        "    output = output.float()\n",
        "    loss = loss_function(output, targets)\n",
        "    print(f'Actual loss: {loss}')\n",
        "    break\n",
        "\n",
        "print(f'Expected Theoretical loss: {np.log(2)}')"
      ]
    },
    {
      "cell_type": "markdown",
      "metadata": {
        "id": "e0_zWk0Ib74K"
      },
      "source": [
        "# <Font color = 'indianred'>**Training Model**"
      ]
    },
    {
      "cell_type": "code",
      "execution_count": null,
      "metadata": {
        "id": "pQFAZaSXZCcG",
        "colab": {
          "base_uri": "https://localhost:8080/"
        },
        "outputId": "f76760ed-2f95-4e3c-dfb7-5cb845f8b64d"
      },
      "outputs": [
        {
          "output_type": "stream",
          "name": "stdout",
          "text": [
            "Epoch 1/5\n",
            "Train Loss: 0.3515 | Train Hamming Distance: 0.7919\n",
            "Val Loss: 0.1919 | Val Hamming Distance: 0.7924\n",
            "\n",
            "Epoch 2/5\n",
            "Train Loss: 0.1918 | Train Hamming Distance: 0.7919\n",
            "Val Loss: 0.1502 | Val Hamming Distance: 0.7924\n",
            "\n",
            "Epoch 3/5\n",
            "Train Loss: 0.1572 | Train Hamming Distance: 0.7919\n",
            "Val Loss: 0.1339 | Val Hamming Distance: 0.7924\n",
            "\n",
            "Epoch 4/5\n",
            "Train Loss: 0.1346 | Train Hamming Distance: 0.7919\n",
            "Val Loss: 0.1214 | Val Hamming Distance: 0.7924\n",
            "\n",
            "Epoch 5/5\n",
            "Train Loss: 0.1196 | Train Hamming Distance: 0.7919\n",
            "Val Loss: 0.1145 | Val Hamming Distance: 0.7924\n",
            "\n"
          ]
        }
      ],
      "source": [
        "# Call the train function to train the model\n",
        "import warnings\n",
        "warnings.filterwarnings(\"ignore\")\n",
        "\n",
        "train_losses, train_hamming_dis, valid_losses, valid_hamming_dis = train(\n",
        "    train_loader, valid_loader, stack_imdb, optimizer, loss_function, hyperparameters.EPOCHS, device\n",
        ")\n"
      ]
    },
    {
      "cell_type": "code",
      "source": [
        "# Call the train function to train the model\n",
        "import warnings\n",
        "warnings.filterwarnings(\"ignore\")\n",
        "\n",
        "\n",
        "train_losses, train_hamming_dis, valid_losses, valid_hamming_dis = train(\n",
        "    train_loader, valid_loader, stack_imdb, optimizer, loss_function, hyperparameters.EPOCHS, device\n",
        ")\n"
      ],
      "metadata": {
        "colab": {
          "base_uri": "https://localhost:8080/"
        },
        "id": "vw7j73TviZqd",
        "outputId": "fb3061b9-3803-4611-a102-8ed5f5e394ae"
      },
      "execution_count": null,
      "outputs": [
        {
          "output_type": "stream",
          "name": "stdout",
          "text": [
            "Epoch 1/5\n",
            "Train Loss: 0.1083 | Train Hamming Distance: 0.7919\n",
            "Val Loss: 0.1092 | Val Hamming Distance: 0.7924\n",
            "\n",
            "Epoch 2/5\n",
            "Train Loss: 0.0965 | Train Hamming Distance: 0.7919\n",
            "Val Loss: 0.1051 | Val Hamming Distance: 0.7924\n",
            "\n",
            "Epoch 3/5\n",
            "Train Loss: 0.0879 | Train Hamming Distance: 0.7919\n",
            "Val Loss: 0.1033 | Val Hamming Distance: 0.7924\n",
            "\n",
            "Epoch 4/5\n",
            "Train Loss: 0.0808 | Train Hamming Distance: 0.7919\n",
            "Val Loss: 0.1011 | Val Hamming Distance: 0.7924\n",
            "\n",
            "Epoch 5/5\n",
            "Train Loss: 0.0747 | Train Hamming Distance: 0.7919\n",
            "Val Loss: 0.1042 | Val Hamming Distance: 0.7924\n",
            "\n"
          ]
        }
      ]
    },
    {
      "cell_type": "markdown",
      "source": [
        "# <Font color = 'indianred'>**Plot Losses Metrics**\n"
      ],
      "metadata": {
        "id": "wIfhnc96Ywmx"
      }
    },
    {
      "cell_type": "code",
      "source": [
        "def plot_history(train_losses, train_metrics, val_losses=None, val_metrics=None):\n",
        "\n",
        "    epochs = range(1, len(train_losses) + 1)\n",
        "\n",
        "    # Plot training and validation losses\n",
        "    plt.figure()\n",
        "    plt.plot(epochs, train_losses, label=\"Train\")\n",
        "    if val_losses:\n",
        "      plt.title('Train Vs Validation Loss')\n",
        "      plt.plot(epochs, val_losses, label=\"Validation\")\n",
        "    plt.xlabel(\"Epochs\")\n",
        "    plt.ylabel(\"Loss\")\n",
        "    plt.legend()\n",
        "    plt.show()\n",
        "\n"
      ],
      "metadata": {
        "id": "qjX-gC5FFvaf"
      },
      "execution_count": null,
      "outputs": []
    },
    {
      "cell_type": "code",
      "source": [
        "plot_history(train_losses, train_hamming_dis, valid_losses, valid_hamming_dis)"
      ],
      "metadata": {
        "colab": {
          "base_uri": "https://localhost:8080/",
          "height": 472
        },
        "id": "CCvkqCnDGkgm",
        "outputId": "fc6ca625-2a85-4f0b-fa13-736588e99fce"
      },
      "execution_count": null,
      "outputs": [
        {
          "output_type": "display_data",
          "data": {
            "text/plain": [
              "<Figure size 640x480 with 1 Axes>"
            ],
            "image/png": "[encoded data removed]"
          },
          "metadata": {}
        }
      ]
    },
    {
      "cell_type": "markdown",
      "source": [
        "# <Font color = 'indianred'>**Model Checkpointing**"
      ],
      "metadata": {
        "id": "VDUi62j2EzkE"
      }
    },
    {
      "cell_type": "code",
      "source": [
        "# Get the current timestamp in the format \"YYYY-MM-DD_HH-MM-SS\"\n",
        "timestamp = datetime.now().strftime(\"%Y-%m-%d_%H-%M-%S\")\n",
        "\n",
        "# Define a suffix for the file name\n",
        "suffix = 'twolayer'\n",
        "\n",
        "# Combine the timestamp and suffix to create the file path\n",
        "path = model_folder / f'{timestamp}_{suffix}.pt'\n",
        "path"
      ],
      "metadata": {
        "id": "G3_c1t5JaTLH",
        "colab": {
          "base_uri": "https://localhost:8080/"
        },
        "outputId": "e6e04050-1e1b-4cb6-a57e-657bfef447c9"
      },
      "execution_count": null,
      "outputs": [
        {
          "output_type": "execute_result",
          "data": {
            "text/plain": [
              "PosixPath('/content/drive/MyDrive/BUAN-6342/2023-09-25_04-26-12_twolayer.pt')"
            ]
          },
          "metadata": {},
          "execution_count": 63
        }
      ]
    },
    {
      "cell_type": "code",
      "source": [
        "# Save the model's state dictionary to the specified file path\n",
        "torch.save(stack_imdb.state_dict(), path)\n"
      ],
      "metadata": {
        "id": "POL0Z3DZZGAP"
      },
      "execution_count": null,
      "outputs": []
    },
    {
      "cell_type": "code",
      "source": [
        "# Create an instance of the model with the same architecture\n",
        "my_model = CustomMLP(vocab_size=hyperparameters.VOCAB_SIZE,\n",
        "                       embedding_dim=hyperparameters.EMBED_DIM,\n",
        "                       hidden_dim1=hyperparameters.HIDDEN_DIM1,\n",
        "                       hidden_dim2=hyperparameters.HIDDEN_DIM2,\n",
        "                       drop_prob1=hyperparameters.DROP_PROB1,\n",
        "                       drop_prob2=hyperparameters.DROP_PROB2,\n",
        "                       num_outputs=hyperparameters.NUM_OUTPUTS)\n",
        "\n",
        "# Load the model's state dictionary from the specified checkpoint file\n",
        "checkpoint = torch.load(path)\n",
        "\n",
        "# Load the saved state dictionary into the model\n",
        "my_model.load_state_dict(checkpoint)\n"
      ],
      "metadata": {
        "colab": {
          "base_uri": "https://localhost:8080/"
        },
        "id": "7SGDUH22ZgBr",
        "outputId": "a3a8e303-6b12-4112-84ec-72e6eb675a0d"
      },
      "execution_count": null,
      "outputs": [
        {
          "output_type": "execute_result",
          "data": {
            "text/plain": [
              "<All keys matched successfully>"
            ]
          },
          "metadata": {},
          "execution_count": 57
        }
      ]
    },
    {
      "cell_type": "markdown",
      "metadata": {
        "id": "c-Cj1f2Qb74K"
      },
      "source": [
        "# <Font color = 'indianred'>**Get Accuracy, Predictions**"
      ]
    },
    {
      "cell_type": "code",
      "source": [
        "def get_acc_pred(data_loader, model, device, multilabel=True, threshold=0.0):\n",
        "\n",
        "    model = model.to(device)\n",
        "    model.eval()\n",
        "\n",
        "    # Create empty tensors to store predictions and actual labels\n",
        "    predictions = torch.Tensor().to(device)\n",
        "    y = torch.Tensor().to(device)\n",
        "\n",
        "    # Iterate over batches from data loader\n",
        "    with torch.no_grad():\n",
        "        for inputs, targets in data_loader:\n",
        "            # Move inputs and targets to the device\n",
        "            inputs = tuple(input_tensor.to(device) for input_tensor in inputs)\n",
        "            targets = targets.to(device)\n",
        "\n",
        "            # Perform a forward pass to get the model's outputs\n",
        "            outputs = model(inputs)\n",
        "\n",
        "            # Choose the label with maximum probability\n",
        "            if multilabel:\n",
        "                outputs = (torch.sigmoid(outputs) > threshold).float()\n",
        "\n",
        "\n",
        "            # Add the predicted labels and actual labels to their respective tensors\n",
        "            predictions = torch.cat((predictions, outputs if multilabel else predicted))\n",
        "            y = torch.cat((y, targets))\n",
        "\n",
        "    # Return tuple containing predictions and actual labels\n",
        "    return predictions, y\n"
      ],
      "metadata": {
        "id": "ACb_ZPvtaujQ"
      },
      "execution_count": null,
      "outputs": []
    },
    {
      "cell_type": "code",
      "execution_count": null,
      "metadata": {
        "execution": {
          "iopub.execute_input": "2022-09-14T05:15:58.582919Z",
          "iopub.status.busy": "2022-09-14T05:15:58.582773Z",
          "iopub.status.idle": "2022-09-14T05:15:59.908270Z",
          "shell.execute_reply": "2022-09-14T05:15:59.907822Z",
          "shell.execute_reply.started": "2022-09-14T05:15:58.582906Z"
        },
        "id": "yw7GhoZuRdIO",
        "tags": [],
        "colab": {
          "base_uri": "https://localhost:8080/"
        },
        "outputId": "1ccbd611-acc0-4b8d-8067-3d582d98abdb"
      },
      "outputs": [
        {
          "output_type": "stream",
          "name": "stdout",
          "text": [
            "CPU times: user 667 ms, sys: 293 ms, total: 960 ms\n",
            "Wall time: 2.72 s\n"
          ]
        }
      ],
      "source": [
        "\n",
        "%%time\n",
        "predictions_test, target_test = get_acc_pred(test_loader, my_model, device)\n",
        "predictions_train, target_train = get_acc_pred(train_loader, my_model, device)\n",
        "predictions_valid, target_valid = get_acc_pred(valid_loader, my_model, device)\n"
      ]
    },
    {
      "cell_type": "markdown",
      "source": [
        "## Calculating the hamming distance for test, train and validation data"
      ],
      "metadata": {
        "id": "X2omulfRf_tZ"
      }
    },
    {
      "cell_type": "code",
      "execution_count": null,
      "metadata": {
        "execution": {
          "iopub.execute_input": "2022-09-14T05:15:59.908911Z",
          "iopub.status.busy": "2022-09-14T05:15:59.908787Z",
          "iopub.status.idle": "2022-09-14T05:15:59.913493Z",
          "shell.execute_reply": "2022-09-14T05:15:59.912897Z",
          "shell.execute_reply.started": "2022-09-14T05:15:59.908899Z"
        },
        "id": "3v2z0oFcRjrF"
      },
      "outputs": [],
      "source": [
        "\n",
        "metric_hd = multilabel_hamming_distance\n",
        "train_hamdis = metric_hd(predictions_train, target_train, num_labels=10)\n",
        "valid_hamdis = metric_hd(predictions_valid, target_valid, num_labels=10)\n",
        "test_hamdis = metric_hd(predictions_test, target_test, num_labels=10)"
      ]
    },
    {
      "cell_type": "code",
      "source": [
        "# Print Hammoimng Distance\n",
        "print('Test hamming distance', test_hamdis )\n",
        "print('Train hamming distance', train_hamdis )\n",
        "print('Valid hamming distance', valid_hamdis )"
      ],
      "metadata": {
        "colab": {
          "base_uri": "https://localhost:8080/"
        },
        "id": "i-WzxNkCdLqk",
        "outputId": "ed5c7f25-5679-4654-f4cd-6337b6a7ee01"
      },
      "execution_count": null,
      "outputs": [
        {
          "output_type": "stream",
          "name": "stdout",
          "text": [
            "Test hamming distance tensor(0.7922, device='cuda:0')\n",
            "Train hamming distance tensor(0.7919, device='cuda:0')\n",
            "Valid hamming distance tensor(0.7924, device='cuda:0')\n"
          ]
        }
      ]
    },
    {
      "cell_type": "markdown",
      "source": [
        "## Calculating the F1 score for hamming distance for test, train and validation data"
      ],
      "metadata": {
        "id": "ODkTF0sfgKPI"
      }
    },
    {
      "cell_type": "code",
      "source": [
        "metric_f1 = multilabel_f1_score\n",
        "f1_valid = metric_f1(predictions_valid, target_valid, num_labels=10)\n",
        "f1_test = metric_f1(predictions_test, target_test,num_labels=10)\n",
        "f1_train = metric_f1(predictions_train, target_train, num_labels=10)\n",
        "\n",
        "# Print Test Accuracy\n",
        "print('Test f1 - score', f1_test * 100)\n",
        "print('Train f1 - score', f1_train * 100)\n",
        "print('Valid f1 - score', f1_valid * 100)\n"
      ],
      "metadata": {
        "colab": {
          "base_uri": "https://localhost:8080/"
        },
        "id": "fwa3vdLFdW45",
        "outputId": "8476e502-9ff7-4857-f88d-8776e4993011"
      },
      "execution_count": null,
      "outputs": [
        {
          "output_type": "stream",
          "name": "stdout",
          "text": [
            "Test f1 - score tensor(30.6745, device='cuda:0')\n",
            "Train f1 - score tensor(30.5824, device='cuda:0')\n",
            "Valid f1 - score tensor(30.5475, device='cuda:0')\n"
          ]
        }
      ]
    },
    {
      "cell_type": "markdown",
      "source": [
        "# <Font color = 'blue'>*************THE END*************"
      ],
      "metadata": {
        "id": "CZpemOrYhkWX"
      }
    },
    {
      "cell_type": "code",
      "source": [],
      "metadata": {
        "id": "RWrTM7mNlPGR"
      },
      "execution_count": null,
      "outputs": []
    }
  ],
  "metadata": {
    "accelerator": "GPU",
    "colab": {
      "machine_shape": "hm",
      "provenance": [],
      "gpuType": "T4"
    },
    "kernelspec": {
      "display_name": "Python 3",
      "name": "python3"
    },
    "language_info": {
      "codemirror_mode": {
        "name": "ipython",
        "version": 3
      },
      "file_extension": ".py",
      "mimetype": "text/x-python",
      "name": "python",
      "nbconvert_exporter": "python",
      "pygments_lexer": "ipython3",
      "version": "3.9.16"
    },
    "vscode": {
      "interpreter": {
        "hash": "a75929e85776ec4eb9d0646d55dce2d9636f6a302fc78e3e6babaf08df8451b4"
      }
    }
  },
  "nbformat": 4,
  "nbformat_minor": 0
}